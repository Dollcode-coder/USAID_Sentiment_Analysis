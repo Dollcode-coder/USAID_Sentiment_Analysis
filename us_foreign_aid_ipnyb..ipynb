{
 "cells": [
  {
   "cell_type": "code",
   "execution_count": 26,
   "metadata": {},
   "outputs": [],
   "source": [
    "import pandas as pd\n",
    "import numpy as np\n",
    "\n",
    "import seaborn as sns\n",
    "import matplotlib.pyplot as plt\n",
    "import plotly.express as px\n",
    "\n",
    "\n",
    "\n",
    "from sklearn.model_selection import train_test_split\n",
    "from sklearn.preprocessing import StandardScaler, LabelEncoder, OneHotEncoder\n",
    "from sklearn.compose import ColumnTransformer\n",
    "from sklearn.pipeline import Pipeline\n",
    "\n",
    "import tensorflow as tf\n",
    "from tensorflow.keras import models\n",
    "\n",
    "from tensorflow import keras\n",
    "from tensorflow.keras.models import Sequential\n",
    "from tensorflow.keras.layers import Dense, Dropout, Flatten, Activation, Input\n",
    "from tensorflow.keras.callbacks import EarlyStopping\n",
    "from sklearn.metrics import cohen_kappa_score\n",
    "from sklearn.metrics import matthews_corrcoef\n",
    "\n",
    "from tensorflow.keras.layers import Dense, Embedding, LSTM, Conv1D, MaxPooling1D, Flatten,Input\n"
   ]
  },
  {
   "cell_type": "markdown",
   "metadata": {
    "jp-MarkdownHeadingCollapsed": true
   },
   "source": [
    "# DATA UNDERSTANDING"
   ]
  },
  {
   "cell_type": "code",
   "execution_count": 27,
   "metadata": {},
   "outputs": [
    {
     "name": "stderr",
     "output_type": "stream",
     "text": [
      "C:\\Users\\HomePC\\anaconda3\\envs\\learn-env\\lib\\site-packages\\IPython\\core\\interactiveshell.py:3145: DtypeWarning:\n",
      "\n",
      "Columns (38,39,42) have mixed types.Specify dtype option on import or set low_memory=False.\n",
      "\n"
     ]
    },
    {
     "data": {
      "text/html": [
       "<div>\n",
       "<style scoped>\n",
       "    .dataframe tbody tr th:only-of-type {\n",
       "        vertical-align: middle;\n",
       "    }\n",
       "\n",
       "    .dataframe tbody tr th {\n",
       "        vertical-align: top;\n",
       "    }\n",
       "\n",
       "    .dataframe thead th {\n",
       "        text-align: right;\n",
       "    }\n",
       "</style>\n",
       "<table border=\"1\" class=\"dataframe\">\n",
       "  <thead>\n",
       "    <tr style=\"text-align: right;\">\n",
       "      <th></th>\n",
       "      <th>country_id</th>\n",
       "      <th>country_code</th>\n",
       "      <th>country_name</th>\n",
       "      <th>region_id</th>\n",
       "      <th>region_name</th>\n",
       "      <th>income_group_id</th>\n",
       "      <th>income_group_name</th>\n",
       "      <th>income_group_acronym</th>\n",
       "      <th>implementing_agency_id</th>\n",
       "      <th>implementing_agency_acronym</th>\n",
       "      <th>...</th>\n",
       "      <th>activity_start_date</th>\n",
       "      <th>activity_end_date</th>\n",
       "      <th>transaction_type_id</th>\n",
       "      <th>transaction_type_name</th>\n",
       "      <th>fiscal_year</th>\n",
       "      <th>current_amount</th>\n",
       "      <th>constant_amount</th>\n",
       "      <th>USG_sector_id</th>\n",
       "      <th>USG_sector_name</th>\n",
       "      <th>submission_id</th>\n",
       "    </tr>\n",
       "  </thead>\n",
       "  <tbody>\n",
       "    <tr>\n",
       "      <th>0</th>\n",
       "      <td>1002</td>\n",
       "      <td>WLD</td>\n",
       "      <td>World</td>\n",
       "      <td>7</td>\n",
       "      <td>World</td>\n",
       "      <td>NaN</td>\n",
       "      <td>NaN</td>\n",
       "      <td>NaN</td>\n",
       "      <td>1</td>\n",
       "      <td>USAID</td>\n",
       "      <td>...</td>\n",
       "      <td>2002-06-04</td>\n",
       "      <td>2015-09-30</td>\n",
       "      <td>2</td>\n",
       "      <td>Obligations</td>\n",
       "      <td>2016</td>\n",
       "      <td>1818282317</td>\n",
       "      <td>1818282317</td>\n",
       "      <td>11</td>\n",
       "      <td>HIV/AIDS</td>\n",
       "      <td>76</td>\n",
       "    </tr>\n",
       "    <tr>\n",
       "      <th>1</th>\n",
       "      <td>1002</td>\n",
       "      <td>WLD</td>\n",
       "      <td>World</td>\n",
       "      <td>7</td>\n",
       "      <td>World</td>\n",
       "      <td>NaN</td>\n",
       "      <td>NaN</td>\n",
       "      <td>NaN</td>\n",
       "      <td>1</td>\n",
       "      <td>USAID</td>\n",
       "      <td>...</td>\n",
       "      <td>2002-06-04</td>\n",
       "      <td>2015-09-30</td>\n",
       "      <td>3</td>\n",
       "      <td>Disbursements</td>\n",
       "      <td>2016</td>\n",
       "      <td>1818282317</td>\n",
       "      <td>1818282317</td>\n",
       "      <td>11</td>\n",
       "      <td>HIV/AIDS</td>\n",
       "      <td>76</td>\n",
       "    </tr>\n",
       "    <tr>\n",
       "      <th>2</th>\n",
       "      <td>1002</td>\n",
       "      <td>WLD</td>\n",
       "      <td>World</td>\n",
       "      <td>7</td>\n",
       "      <td>World</td>\n",
       "      <td>NaN</td>\n",
       "      <td>NaN</td>\n",
       "      <td>NaN</td>\n",
       "      <td>1</td>\n",
       "      <td>USAID</td>\n",
       "      <td>...</td>\n",
       "      <td>2002-06-04</td>\n",
       "      <td>2015-09-30</td>\n",
       "      <td>3</td>\n",
       "      <td>Disbursements</td>\n",
       "      <td>2012</td>\n",
       "      <td>1670529168</td>\n",
       "      <td>1771102005</td>\n",
       "      <td>11</td>\n",
       "      <td>HIV/AIDS</td>\n",
       "      <td>76</td>\n",
       "    </tr>\n",
       "    <tr>\n",
       "      <th>3</th>\n",
       "      <td>1002</td>\n",
       "      <td>WLD</td>\n",
       "      <td>World</td>\n",
       "      <td>7</td>\n",
       "      <td>World</td>\n",
       "      <td>NaN</td>\n",
       "      <td>NaN</td>\n",
       "      <td>NaN</td>\n",
       "      <td>1</td>\n",
       "      <td>USAID</td>\n",
       "      <td>...</td>\n",
       "      <td>2002-06-04</td>\n",
       "      <td>2015-09-30</td>\n",
       "      <td>2</td>\n",
       "      <td>Obligations</td>\n",
       "      <td>2014</td>\n",
       "      <td>1618095498</td>\n",
       "      <td>1656710327</td>\n",
       "      <td>11</td>\n",
       "      <td>HIV/AIDS</td>\n",
       "      <td>76</td>\n",
       "    </tr>\n",
       "    <tr>\n",
       "      <th>4</th>\n",
       "      <td>1002</td>\n",
       "      <td>WLD</td>\n",
       "      <td>World</td>\n",
       "      <td>7</td>\n",
       "      <td>World</td>\n",
       "      <td>NaN</td>\n",
       "      <td>NaN</td>\n",
       "      <td>NaN</td>\n",
       "      <td>1</td>\n",
       "      <td>USAID</td>\n",
       "      <td>...</td>\n",
       "      <td>2002-06-04</td>\n",
       "      <td>2015-09-30</td>\n",
       "      <td>3</td>\n",
       "      <td>Disbursements</td>\n",
       "      <td>2014</td>\n",
       "      <td>1618095498</td>\n",
       "      <td>1656710327</td>\n",
       "      <td>11</td>\n",
       "      <td>HIV/AIDS</td>\n",
       "      <td>76</td>\n",
       "    </tr>\n",
       "    <tr>\n",
       "      <th>5</th>\n",
       "      <td>1002</td>\n",
       "      <td>WLD</td>\n",
       "      <td>World</td>\n",
       "      <td>7</td>\n",
       "      <td>World</td>\n",
       "      <td>NaN</td>\n",
       "      <td>NaN</td>\n",
       "      <td>NaN</td>\n",
       "      <td>1</td>\n",
       "      <td>USAID</td>\n",
       "      <td>...</td>\n",
       "      <td>2002-06-04</td>\n",
       "      <td>2015-09-30</td>\n",
       "      <td>3</td>\n",
       "      <td>Disbursements</td>\n",
       "      <td>2013</td>\n",
       "      <td>1433084354</td>\n",
       "      <td>1494129606</td>\n",
       "      <td>11</td>\n",
       "      <td>HIV/AIDS</td>\n",
       "      <td>76</td>\n",
       "    </tr>\n",
       "    <tr>\n",
       "      <th>6</th>\n",
       "      <td>1002</td>\n",
       "      <td>WLD</td>\n",
       "      <td>World</td>\n",
       "      <td>7</td>\n",
       "      <td>World</td>\n",
       "      <td>NaN</td>\n",
       "      <td>NaN</td>\n",
       "      <td>NaN</td>\n",
       "      <td>1</td>\n",
       "      <td>USAID</td>\n",
       "      <td>...</td>\n",
       "      <td>2002-06-04</td>\n",
       "      <td>2015-09-30</td>\n",
       "      <td>2</td>\n",
       "      <td>Obligations</td>\n",
       "      <td>2012</td>\n",
       "      <td>1415658867</td>\n",
       "      <td>1500887447</td>\n",
       "      <td>11</td>\n",
       "      <td>HIV/AIDS</td>\n",
       "      <td>76</td>\n",
       "    </tr>\n",
       "    <tr>\n",
       "      <th>7</th>\n",
       "      <td>368</td>\n",
       "      <td>IRQ</td>\n",
       "      <td>Iraq</td>\n",
       "      <td>3</td>\n",
       "      <td>Middle East and North Africa</td>\n",
       "      <td>3.0</td>\n",
       "      <td>Upper Middle Income Country</td>\n",
       "      <td>UMIC</td>\n",
       "      <td>1</td>\n",
       "      <td>USAID</td>\n",
       "      <td>...</td>\n",
       "      <td>NaN</td>\n",
       "      <td>NaN</td>\n",
       "      <td>2</td>\n",
       "      <td>Obligations</td>\n",
       "      <td>2004</td>\n",
       "      <td>1393359182</td>\n",
       "      <td>1748899495</td>\n",
       "      <td>28</td>\n",
       "      <td>Infrastructure</td>\n",
       "      <td>76</td>\n",
       "    </tr>\n",
       "    <tr>\n",
       "      <th>8</th>\n",
       "      <td>1002</td>\n",
       "      <td>WLD</td>\n",
       "      <td>World</td>\n",
       "      <td>7</td>\n",
       "      <td>World</td>\n",
       "      <td>NaN</td>\n",
       "      <td>NaN</td>\n",
       "      <td>NaN</td>\n",
       "      <td>1</td>\n",
       "      <td>USAID</td>\n",
       "      <td>...</td>\n",
       "      <td>2002-06-04</td>\n",
       "      <td>2015-09-30</td>\n",
       "      <td>2</td>\n",
       "      <td>Obligations</td>\n",
       "      <td>2013</td>\n",
       "      <td>1245584354</td>\n",
       "      <td>1298642648</td>\n",
       "      <td>11</td>\n",
       "      <td>HIV/AIDS</td>\n",
       "      <td>76</td>\n",
       "    </tr>\n",
       "    <tr>\n",
       "      <th>9</th>\n",
       "      <td>368</td>\n",
       "      <td>IRQ</td>\n",
       "      <td>Iraq</td>\n",
       "      <td>3</td>\n",
       "      <td>Middle East and North Africa</td>\n",
       "      <td>3.0</td>\n",
       "      <td>Upper Middle Income Country</td>\n",
       "      <td>UMIC</td>\n",
       "      <td>1</td>\n",
       "      <td>USAID</td>\n",
       "      <td>...</td>\n",
       "      <td>NaN</td>\n",
       "      <td>NaN</td>\n",
       "      <td>2</td>\n",
       "      <td>Obligations</td>\n",
       "      <td>2003</td>\n",
       "      <td>995233859</td>\n",
       "      <td>1280129487</td>\n",
       "      <td>28</td>\n",
       "      <td>Infrastructure</td>\n",
       "      <td>76</td>\n",
       "    </tr>\n",
       "  </tbody>\n",
       "</table>\n",
       "<p>10 rows × 48 columns</p>\n",
       "</div>"
      ],
      "text/plain": [
       "   country_id country_code country_name  region_id  \\\n",
       "0        1002          WLD        World          7   \n",
       "1        1002          WLD        World          7   \n",
       "2        1002          WLD        World          7   \n",
       "3        1002          WLD        World          7   \n",
       "4        1002          WLD        World          7   \n",
       "5        1002          WLD        World          7   \n",
       "6        1002          WLD        World          7   \n",
       "7         368          IRQ         Iraq          3   \n",
       "8        1002          WLD        World          7   \n",
       "9         368          IRQ         Iraq          3   \n",
       "\n",
       "                    region_name  income_group_id            income_group_name  \\\n",
       "0                         World              NaN                          NaN   \n",
       "1                         World              NaN                          NaN   \n",
       "2                         World              NaN                          NaN   \n",
       "3                         World              NaN                          NaN   \n",
       "4                         World              NaN                          NaN   \n",
       "5                         World              NaN                          NaN   \n",
       "6                         World              NaN                          NaN   \n",
       "7  Middle East and North Africa              3.0  Upper Middle Income Country   \n",
       "8                         World              NaN                          NaN   \n",
       "9  Middle East and North Africa              3.0  Upper Middle Income Country   \n",
       "\n",
       "  income_group_acronym  implementing_agency_id implementing_agency_acronym  \\\n",
       "0                  NaN                       1                       USAID   \n",
       "1                  NaN                       1                       USAID   \n",
       "2                  NaN                       1                       USAID   \n",
       "3                  NaN                       1                       USAID   \n",
       "4                  NaN                       1                       USAID   \n",
       "5                  NaN                       1                       USAID   \n",
       "6                  NaN                       1                       USAID   \n",
       "7                 UMIC                       1                       USAID   \n",
       "8                  NaN                       1                       USAID   \n",
       "9                 UMIC                       1                       USAID   \n",
       "\n",
       "   ... activity_start_date  activity_end_date transaction_type_id  \\\n",
       "0  ...          2002-06-04         2015-09-30                   2   \n",
       "1  ...          2002-06-04         2015-09-30                   3   \n",
       "2  ...          2002-06-04         2015-09-30                   3   \n",
       "3  ...          2002-06-04         2015-09-30                   2   \n",
       "4  ...          2002-06-04         2015-09-30                   3   \n",
       "5  ...          2002-06-04         2015-09-30                   3   \n",
       "6  ...          2002-06-04         2015-09-30                   2   \n",
       "7  ...                 NaN                NaN                   2   \n",
       "8  ...          2002-06-04         2015-09-30                   2   \n",
       "9  ...                 NaN                NaN                   2   \n",
       "\n",
       "  transaction_type_name  fiscal_year current_amount  constant_amount  \\\n",
       "0           Obligations         2016     1818282317       1818282317   \n",
       "1         Disbursements         2016     1818282317       1818282317   \n",
       "2         Disbursements         2012     1670529168       1771102005   \n",
       "3           Obligations         2014     1618095498       1656710327   \n",
       "4         Disbursements         2014     1618095498       1656710327   \n",
       "5         Disbursements         2013     1433084354       1494129606   \n",
       "6           Obligations         2012     1415658867       1500887447   \n",
       "7           Obligations         2004     1393359182       1748899495   \n",
       "8           Obligations         2013     1245584354       1298642648   \n",
       "9           Obligations         2003      995233859       1280129487   \n",
       "\n",
       "  USG_sector_id  USG_sector_name submission_id  \n",
       "0            11         HIV/AIDS            76  \n",
       "1            11         HIV/AIDS            76  \n",
       "2            11         HIV/AIDS            76  \n",
       "3            11         HIV/AIDS            76  \n",
       "4            11         HIV/AIDS            76  \n",
       "5            11         HIV/AIDS            76  \n",
       "6            11         HIV/AIDS            76  \n",
       "7            28   Infrastructure            76  \n",
       "8            11         HIV/AIDS            76  \n",
       "9            28   Infrastructure            76  \n",
       "\n",
       "[10 rows x 48 columns]"
      ]
     },
     "execution_count": 27,
     "metadata": {},
     "output_type": "execute_result"
    }
   ],
   "source": [
    "df = pd.read_csv('us_foreign_aid.csv')\n",
    "df.head(10)"
   ]
  },
  {
   "cell_type": "code",
   "execution_count": 28,
   "metadata": {},
   "outputs": [
    {
     "data": {
      "text/html": [
       "<div>\n",
       "<style scoped>\n",
       "    .dataframe tbody tr th:only-of-type {\n",
       "        vertical-align: middle;\n",
       "    }\n",
       "\n",
       "    .dataframe tbody tr th {\n",
       "        vertical-align: top;\n",
       "    }\n",
       "\n",
       "    .dataframe thead th {\n",
       "        text-align: right;\n",
       "    }\n",
       "</style>\n",
       "<table border=\"1\" class=\"dataframe\">\n",
       "  <thead>\n",
       "    <tr style=\"text-align: right;\">\n",
       "      <th></th>\n",
       "      <th>country_id</th>\n",
       "      <th>country_code</th>\n",
       "      <th>country_name</th>\n",
       "      <th>region_id</th>\n",
       "      <th>region_name</th>\n",
       "      <th>income_group_id</th>\n",
       "      <th>income_group_name</th>\n",
       "      <th>income_group_acronym</th>\n",
       "      <th>implementing_agency_id</th>\n",
       "      <th>implementing_agency_acronym</th>\n",
       "      <th>...</th>\n",
       "      <th>activity_start_date</th>\n",
       "      <th>activity_end_date</th>\n",
       "      <th>transaction_type_id</th>\n",
       "      <th>transaction_type_name</th>\n",
       "      <th>fiscal_year</th>\n",
       "      <th>current_amount</th>\n",
       "      <th>constant_amount</th>\n",
       "      <th>USG_sector_id</th>\n",
       "      <th>USG_sector_name</th>\n",
       "      <th>submission_id</th>\n",
       "    </tr>\n",
       "  </thead>\n",
       "  <tbody>\n",
       "    <tr>\n",
       "      <th>950538</th>\n",
       "      <td>376</td>\n",
       "      <td>ISR</td>\n",
       "      <td>Israel</td>\n",
       "      <td>3</td>\n",
       "      <td>Middle East and North Africa</td>\n",
       "      <td>4.0</td>\n",
       "      <td>High Income Country</td>\n",
       "      <td>HIC</td>\n",
       "      <td>1</td>\n",
       "      <td>USAID</td>\n",
       "      <td>...</td>\n",
       "      <td>NaN</td>\n",
       "      <td>NaN</td>\n",
       "      <td>2</td>\n",
       "      <td>Obligations</td>\n",
       "      <td>1988</td>\n",
       "      <td>-1200000000</td>\n",
       "      <td>-2167842627</td>\n",
       "      <td>25</td>\n",
       "      <td>Macroeconomic Foundation for Growth</td>\n",
       "      <td>1</td>\n",
       "    </tr>\n",
       "    <tr>\n",
       "      <th>950539</th>\n",
       "      <td>376</td>\n",
       "      <td>ISR</td>\n",
       "      <td>Israel</td>\n",
       "      <td>3</td>\n",
       "      <td>Middle East and North Africa</td>\n",
       "      <td>4.0</td>\n",
       "      <td>High Income Country</td>\n",
       "      <td>HIC</td>\n",
       "      <td>1</td>\n",
       "      <td>USAID</td>\n",
       "      <td>...</td>\n",
       "      <td>NaN</td>\n",
       "      <td>NaN</td>\n",
       "      <td>2</td>\n",
       "      <td>Obligations</td>\n",
       "      <td>1987</td>\n",
       "      <td>-1200000000</td>\n",
       "      <td>-2238066465</td>\n",
       "      <td>25</td>\n",
       "      <td>Macroeconomic Foundation for Growth</td>\n",
       "      <td>1</td>\n",
       "    </tr>\n",
       "    <tr>\n",
       "      <th>950540</th>\n",
       "      <td>376</td>\n",
       "      <td>ISR</td>\n",
       "      <td>Israel</td>\n",
       "      <td>3</td>\n",
       "      <td>Middle East and North Africa</td>\n",
       "      <td>4.0</td>\n",
       "      <td>High Income Country</td>\n",
       "      <td>HIC</td>\n",
       "      <td>1</td>\n",
       "      <td>USAID</td>\n",
       "      <td>...</td>\n",
       "      <td>NaN</td>\n",
       "      <td>NaN</td>\n",
       "      <td>2</td>\n",
       "      <td>Obligations</td>\n",
       "      <td>1991</td>\n",
       "      <td>-1850000000</td>\n",
       "      <td>-2995802973</td>\n",
       "      <td>25</td>\n",
       "      <td>Macroeconomic Foundation for Growth</td>\n",
       "      <td>1</td>\n",
       "    </tr>\n",
       "    <tr>\n",
       "      <th>950541</th>\n",
       "      <td>376</td>\n",
       "      <td>ISR</td>\n",
       "      <td>Israel</td>\n",
       "      <td>3</td>\n",
       "      <td>Middle East and North Africa</td>\n",
       "      <td>4.0</td>\n",
       "      <td>High Income Country</td>\n",
       "      <td>HIC</td>\n",
       "      <td>1</td>\n",
       "      <td>USAID</td>\n",
       "      <td>...</td>\n",
       "      <td>NaN</td>\n",
       "      <td>NaN</td>\n",
       "      <td>2</td>\n",
       "      <td>Obligations</td>\n",
       "      <td>1986</td>\n",
       "      <td>-1898400000</td>\n",
       "      <td>-3619598627</td>\n",
       "      <td>25</td>\n",
       "      <td>Macroeconomic Foundation for Growth</td>\n",
       "      <td>1</td>\n",
       "    </tr>\n",
       "    <tr>\n",
       "      <th>950542</th>\n",
       "      <td>376</td>\n",
       "      <td>ISR</td>\n",
       "      <td>Israel</td>\n",
       "      <td>3</td>\n",
       "      <td>Middle East and North Africa</td>\n",
       "      <td>4.0</td>\n",
       "      <td>High Income Country</td>\n",
       "      <td>HIC</td>\n",
       "      <td>1</td>\n",
       "      <td>USAID</td>\n",
       "      <td>...</td>\n",
       "      <td>NaN</td>\n",
       "      <td>NaN</td>\n",
       "      <td>2</td>\n",
       "      <td>Obligations</td>\n",
       "      <td>1985</td>\n",
       "      <td>-1950050000</td>\n",
       "      <td>-3802905511</td>\n",
       "      <td>25</td>\n",
       "      <td>Macroeconomic Foundation for Growth</td>\n",
       "      <td>1</td>\n",
       "    </tr>\n",
       "  </tbody>\n",
       "</table>\n",
       "<p>5 rows × 48 columns</p>\n",
       "</div>"
      ],
      "text/plain": [
       "        country_id country_code country_name  region_id  \\\n",
       "950538         376          ISR       Israel          3   \n",
       "950539         376          ISR       Israel          3   \n",
       "950540         376          ISR       Israel          3   \n",
       "950541         376          ISR       Israel          3   \n",
       "950542         376          ISR       Israel          3   \n",
       "\n",
       "                         region_name  income_group_id    income_group_name  \\\n",
       "950538  Middle East and North Africa              4.0  High Income Country   \n",
       "950539  Middle East and North Africa              4.0  High Income Country   \n",
       "950540  Middle East and North Africa              4.0  High Income Country   \n",
       "950541  Middle East and North Africa              4.0  High Income Country   \n",
       "950542  Middle East and North Africa              4.0  High Income Country   \n",
       "\n",
       "       income_group_acronym  implementing_agency_id  \\\n",
       "950538                  HIC                       1   \n",
       "950539                  HIC                       1   \n",
       "950540                  HIC                       1   \n",
       "950541                  HIC                       1   \n",
       "950542                  HIC                       1   \n",
       "\n",
       "       implementing_agency_acronym  ... activity_start_date  \\\n",
       "950538                       USAID  ...                 NaN   \n",
       "950539                       USAID  ...                 NaN   \n",
       "950540                       USAID  ...                 NaN   \n",
       "950541                       USAID  ...                 NaN   \n",
       "950542                       USAID  ...                 NaN   \n",
       "\n",
       "        activity_end_date transaction_type_id transaction_type_name  \\\n",
       "950538                NaN                   2           Obligations   \n",
       "950539                NaN                   2           Obligations   \n",
       "950540                NaN                   2           Obligations   \n",
       "950541                NaN                   2           Obligations   \n",
       "950542                NaN                   2           Obligations   \n",
       "\n",
       "        fiscal_year current_amount  constant_amount USG_sector_id  \\\n",
       "950538         1988    -1200000000      -2167842627            25   \n",
       "950539         1987    -1200000000      -2238066465            25   \n",
       "950540         1991    -1850000000      -2995802973            25   \n",
       "950541         1986    -1898400000      -3619598627            25   \n",
       "950542         1985    -1950050000      -3802905511            25   \n",
       "\n",
       "                            USG_sector_name submission_id  \n",
       "950538  Macroeconomic Foundation for Growth             1  \n",
       "950539  Macroeconomic Foundation for Growth             1  \n",
       "950540  Macroeconomic Foundation for Growth             1  \n",
       "950541  Macroeconomic Foundation for Growth             1  \n",
       "950542  Macroeconomic Foundation for Growth             1  \n",
       "\n",
       "[5 rows x 48 columns]"
      ]
     },
     "execution_count": 28,
     "metadata": {},
     "output_type": "execute_result"
    }
   ],
   "source": [
    "df.tail(5)"
   ]
  },
  {
   "cell_type": "code",
   "execution_count": 29,
   "metadata": {},
   "outputs": [
    {
     "data": {
      "text/plain": [
       "Index(['country_id', 'country_code', 'country_name', 'region_id',\n",
       "       'region_name', 'income_group_id', 'income_group_name',\n",
       "       'income_group_acronym', 'implementing_agency_id',\n",
       "       'implementing_agency_acronym', 'implementing_agency_name',\n",
       "       'implementing_subagency_id', 'subagency_acronym', 'subagency_name',\n",
       "       'channel_category_id', 'channel_category_name',\n",
       "       'channel_subcategory_id', 'channel_subcategory_name', 'channel_id',\n",
       "       'channel_name', 'dac_category_id', 'dac_category_name',\n",
       "       'dac_sector_code', 'dac_sector_name', 'dac_purpose_code',\n",
       "       'dac_purpose_name', 'funding_account_id', 'funding_account_name',\n",
       "       'funding_agency_id', 'funding_agency_name', 'funding_agency_acronym',\n",
       "       'assistance_category_id', 'assistance_category_name',\n",
       "       'aid_type_group_id', 'aid_type_group_name', 'activity_id',\n",
       "       'activity_name', 'activity_project_number', 'activity_start_date',\n",
       "       'activity_end_date', 'transaction_type_id', 'transaction_type_name',\n",
       "       'fiscal_year', 'current_amount', 'constant_amount', 'USG_sector_id',\n",
       "       'USG_sector_name', 'submission_id'],\n",
       "      dtype='object')"
      ]
     },
     "execution_count": 29,
     "metadata": {},
     "output_type": "execute_result"
    }
   ],
   "source": [
    "df.columns"
   ]
  },
  {
   "cell_type": "code",
   "execution_count": 30,
   "metadata": {},
   "outputs": [
    {
     "data": {
      "text/plain": [
       "(950543, 48)"
      ]
     },
     "execution_count": 30,
     "metadata": {},
     "output_type": "execute_result"
    }
   ],
   "source": [
    "df.shape"
   ]
  },
  {
   "cell_type": "code",
   "execution_count": 31,
   "metadata": {},
   "outputs": [
    {
     "name": "stdout",
     "output_type": "stream",
     "text": [
      "<class 'pandas.core.frame.DataFrame'>\n",
      "RangeIndex: 950543 entries, 0 to 950542\n",
      "Data columns (total 48 columns):\n",
      " #   Column                       Non-Null Count   Dtype  \n",
      "---  ------                       --------------   -----  \n",
      " 0   country_id                   950543 non-null  int64  \n",
      " 1   country_code                 950257 non-null  object \n",
      " 2   country_name                 950543 non-null  object \n",
      " 3   region_id                    950543 non-null  int64  \n",
      " 4   region_name                  950543 non-null  object \n",
      " 5   income_group_id              765594 non-null  float64\n",
      " 6   income_group_name            765594 non-null  object \n",
      " 7   income_group_acronym         765594 non-null  object \n",
      " 8   implementing_agency_id       950543 non-null  int64  \n",
      " 9   implementing_agency_acronym  949844 non-null  object \n",
      " 10  implementing_agency_name     950543 non-null  object \n",
      " 11  implementing_subagency_id    950543 non-null  int64  \n",
      " 12  subagency_acronym            855631 non-null  object \n",
      " 13  subagency_name               950543 non-null  object \n",
      " 14  channel_category_id          950539 non-null  float64\n",
      " 15  channel_category_name        950539 non-null  object \n",
      " 16  channel_subcategory_id       950539 non-null  float64\n",
      " 17  channel_subcategory_name     950539 non-null  object \n",
      " 18  channel_id                   950543 non-null  int64  \n",
      " 19  channel_name                 950539 non-null  object \n",
      " 20  dac_category_id              950543 non-null  int64  \n",
      " 21  dac_category_name            950543 non-null  object \n",
      " 22  dac_sector_code              950543 non-null  int64  \n",
      " 23  dac_sector_name              950543 non-null  object \n",
      " 24  dac_purpose_code             950543 non-null  int64  \n",
      " 25  dac_purpose_name             950543 non-null  object \n",
      " 26  funding_account_id           950543 non-null  object \n",
      " 27  funding_account_name         950543 non-null  object \n",
      " 28  funding_agency_id            950543 non-null  int64  \n",
      " 29  funding_agency_name          950543 non-null  object \n",
      " 30  funding_agency_acronym       949636 non-null  object \n",
      " 31  assistance_category_id       950543 non-null  int64  \n",
      " 32  assistance_category_name     950543 non-null  object \n",
      " 33  aid_type_group_id            950543 non-null  int64  \n",
      " 34  aid_type_group_name          950543 non-null  object \n",
      " 35  activity_id                  950543 non-null  int64  \n",
      " 36  activity_name                950377 non-null  object \n",
      " 37  activity_project_number      734258 non-null  object \n",
      " 38  activity_start_date          197996 non-null  object \n",
      " 39  activity_end_date            192289 non-null  object \n",
      " 40  transaction_type_id          950543 non-null  int64  \n",
      " 41  transaction_type_name        950543 non-null  object \n",
      " 42  fiscal_year                  950543 non-null  object \n",
      " 43  current_amount               950543 non-null  int64  \n",
      " 44  constant_amount              950543 non-null  int64  \n",
      " 45  USG_sector_id                950543 non-null  int64  \n",
      " 46  USG_sector_name              950543 non-null  object \n",
      " 47  submission_id                950543 non-null  int64  \n",
      "dtypes: float64(3), int64(17), object(28)\n",
      "memory usage: 348.1+ MB\n"
     ]
    }
   ],
   "source": [
    "df.info()"
   ]
  },
  {
   "cell_type": "code",
   "execution_count": 32,
   "metadata": {},
   "outputs": [
    {
     "data": {
      "text/plain": [
       "542662    2027-09-30\n",
       "193933    2027-09-30\n",
       "171116    2027-09-30\n",
       "32585     2027-09-30\n",
       "2634      2025-11-21\n",
       "             ...    \n",
       "950538           NaN\n",
       "950539           NaN\n",
       "950540           NaN\n",
       "950541           NaN\n",
       "950542           NaN\n",
       "Name: activity_end_date, Length: 950543, dtype: object"
      ]
     },
     "execution_count": 32,
     "metadata": {},
     "output_type": "execute_result"
    }
   ],
   "source": [
    "df['activity_end_date'].sort_values(ascending=False)\n",
    "\n"
   ]
  },
  {
   "cell_type": "markdown",
   "metadata": {
    "jp-MarkdownHeadingCollapsed": true
   },
   "source": [
    "# DATA CLEANING"
   ]
  },
  {
   "cell_type": "code",
   "execution_count": 33,
   "metadata": {},
   "outputs": [
    {
     "data": {
      "text/plain": [
       "161"
      ]
     },
     "execution_count": 33,
     "metadata": {},
     "output_type": "execute_result"
    }
   ],
   "source": [
    "df.duplicated().sum()"
   ]
  },
  {
   "cell_type": "code",
   "execution_count": 34,
   "metadata": {},
   "outputs": [],
   "source": [
    "df.drop_duplicates(inplace=True)\n"
   ]
  },
  {
   "cell_type": "code",
   "execution_count": 35,
   "metadata": {},
   "outputs": [
    {
     "data": {
      "text/plain": [
       "(950382, 48)"
      ]
     },
     "execution_count": 35,
     "metadata": {},
     "output_type": "execute_result"
    }
   ],
   "source": [
    "df.shape"
   ]
  },
  {
   "cell_type": "code",
   "execution_count": 36,
   "metadata": {},
   "outputs": [
    {
     "data": {
      "text/plain": [
       "2378793"
      ]
     },
     "execution_count": 36,
     "metadata": {},
     "output_type": "execute_result"
    }
   ],
   "source": [
    "df.isnull().sum().sum()"
   ]
  },
  {
   "cell_type": "code",
   "execution_count": 37,
   "metadata": {},
   "outputs": [
    {
     "data": {
      "text/plain": [
       "country_id                      0.000000\n",
       "country_code                    0.030093\n",
       "country_name                    0.000000\n",
       "region_id                       0.000000\n",
       "region_name                     0.000000\n",
       "income_group_id                19.456808\n",
       "income_group_name              19.456808\n",
       "income_group_acronym           19.456808\n",
       "implementing_agency_id          0.000000\n",
       "implementing_agency_acronym     0.073549\n",
       "implementing_agency_name        0.000000\n",
       "implementing_subagency_id       0.000000\n",
       "subagency_acronym               9.986090\n",
       "subagency_name                  0.000000\n",
       "channel_category_id             0.000421\n",
       "channel_category_name           0.000421\n",
       "channel_subcategory_id          0.000421\n",
       "channel_subcategory_name        0.000421\n",
       "channel_id                      0.000000\n",
       "channel_name                    0.000421\n",
       "dac_category_id                 0.000000\n",
       "dac_category_name               0.000000\n",
       "dac_sector_code                 0.000000\n",
       "dac_sector_name                 0.000000\n",
       "dac_purpose_code                0.000000\n",
       "dac_purpose_name                0.000000\n",
       "funding_account_id              0.000000\n",
       "funding_account_name            0.000000\n",
       "funding_agency_id               0.000000\n",
       "funding_agency_name             0.000000\n",
       "funding_agency_acronym          0.095435\n",
       "assistance_category_id          0.000000\n",
       "assistance_category_name        0.000000\n",
       "aid_type_group_id               0.000000\n",
       "aid_type_group_name             0.000000\n",
       "activity_id                     0.000000\n",
       "activity_name                   0.017467\n",
       "activity_project_number        22.757691\n",
       "activity_start_date            79.183213\n",
       "activity_end_date              79.782551\n",
       "transaction_type_id             0.000000\n",
       "transaction_type_name           0.000000\n",
       "fiscal_year                     0.000000\n",
       "current_amount                  0.000000\n",
       "constant_amount                 0.000000\n",
       "USG_sector_id                   0.000000\n",
       "USG_sector_name                 0.000000\n",
       "submission_id                   0.000000\n",
       "dtype: float64"
      ]
     },
     "execution_count": 37,
     "metadata": {},
     "output_type": "execute_result"
    }
   ],
   "source": [
    "df.isnull().mean()*100"
   ]
  },
  {
   "cell_type": "code",
   "execution_count": 38,
   "metadata": {},
   "outputs": [],
   "source": [
    "df.dropna(inplace = True)"
   ]
  },
  {
   "cell_type": "code",
   "execution_count": 39,
   "metadata": {},
   "outputs": [
    {
     "data": {
      "text/plain": [
       "(131897, 48)"
      ]
     },
     "execution_count": 39,
     "metadata": {},
     "output_type": "execute_result"
    }
   ],
   "source": [
    "df.shape"
   ]
  },
  {
   "cell_type": "code",
   "execution_count": 40,
   "metadata": {},
   "outputs": [],
   "source": [
    "#df.rename(columns={'region_name': 'region'}, inplace=True)"
   ]
  },
  {
   "cell_type": "code",
   "execution_count": 41,
   "metadata": {},
   "outputs": [
    {
     "data": {
      "text/html": [
       "<div>\n",
       "<style scoped>\n",
       "    .dataframe tbody tr th:only-of-type {\n",
       "        vertical-align: middle;\n",
       "    }\n",
       "\n",
       "    .dataframe tbody tr th {\n",
       "        vertical-align: top;\n",
       "    }\n",
       "\n",
       "    .dataframe thead th {\n",
       "        text-align: right;\n",
       "    }\n",
       "</style>\n",
       "<table border=\"1\" class=\"dataframe\">\n",
       "  <thead>\n",
       "    <tr style=\"text-align: right;\">\n",
       "      <th></th>\n",
       "      <th>country_id</th>\n",
       "      <th>country_code</th>\n",
       "      <th>country_name</th>\n",
       "      <th>region_id</th>\n",
       "      <th>region_name</th>\n",
       "      <th>income_group_id</th>\n",
       "      <th>income_group_name</th>\n",
       "      <th>income_group_acronym</th>\n",
       "      <th>implementing_agency_id</th>\n",
       "      <th>implementing_agency_acronym</th>\n",
       "      <th>...</th>\n",
       "      <th>activity_start_date</th>\n",
       "      <th>activity_end_date</th>\n",
       "      <th>transaction_type_id</th>\n",
       "      <th>transaction_type_name</th>\n",
       "      <th>fiscal_year</th>\n",
       "      <th>current_amount</th>\n",
       "      <th>constant_amount</th>\n",
       "      <th>USG_sector_id</th>\n",
       "      <th>USG_sector_name</th>\n",
       "      <th>submission_id</th>\n",
       "    </tr>\n",
       "  </thead>\n",
       "  <tbody>\n",
       "    <tr>\n",
       "      <th>46</th>\n",
       "      <td>4</td>\n",
       "      <td>AFG</td>\n",
       "      <td>Afghanistan</td>\n",
       "      <td>4</td>\n",
       "      <td>South and Central Asia</td>\n",
       "      <td>1.0</td>\n",
       "      <td>Low Income Country</td>\n",
       "      <td>LIC</td>\n",
       "      <td>1</td>\n",
       "      <td>USAID</td>\n",
       "      <td>...</td>\n",
       "      <td>2011-09-21</td>\n",
       "      <td>2012-03-31</td>\n",
       "      <td>2</td>\n",
       "      <td>Obligations</td>\n",
       "      <td>2010</td>\n",
       "      <td>422680000</td>\n",
       "      <td>465584869</td>\n",
       "      <td>8</td>\n",
       "      <td>Good Governance</td>\n",
       "      <td>76</td>\n",
       "    </tr>\n",
       "    <tr>\n",
       "      <th>51</th>\n",
       "      <td>4</td>\n",
       "      <td>AFG</td>\n",
       "      <td>Afghanistan</td>\n",
       "      <td>4</td>\n",
       "      <td>South and Central Asia</td>\n",
       "      <td>1.0</td>\n",
       "      <td>Low Income Country</td>\n",
       "      <td>LIC</td>\n",
       "      <td>1</td>\n",
       "      <td>USAID</td>\n",
       "      <td>...</td>\n",
       "      <td>2011-09-21</td>\n",
       "      <td>2012-03-31</td>\n",
       "      <td>3</td>\n",
       "      <td>Disbursements</td>\n",
       "      <td>2012</td>\n",
       "      <td>400000000</td>\n",
       "      <td>424081672</td>\n",
       "      <td>8</td>\n",
       "      <td>Good Governance</td>\n",
       "      <td>76</td>\n",
       "    </tr>\n",
       "    <tr>\n",
       "      <th>55</th>\n",
       "      <td>400</td>\n",
       "      <td>JOR</td>\n",
       "      <td>Jordan</td>\n",
       "      <td>3</td>\n",
       "      <td>Middle East and North Africa</td>\n",
       "      <td>3.0</td>\n",
       "      <td>Upper Middle Income Country</td>\n",
       "      <td>UMIC</td>\n",
       "      <td>1</td>\n",
       "      <td>USAID</td>\n",
       "      <td>...</td>\n",
       "      <td>2008-10-14</td>\n",
       "      <td>2009-09-30</td>\n",
       "      <td>3</td>\n",
       "      <td>Disbursements</td>\n",
       "      <td>2013</td>\n",
       "      <td>384000000</td>\n",
       "      <td>400357290</td>\n",
       "      <td>25</td>\n",
       "      <td>Macroeconomic Foundation for Growth</td>\n",
       "      <td>76</td>\n",
       "    </tr>\n",
       "    <tr>\n",
       "      <th>56</th>\n",
       "      <td>400</td>\n",
       "      <td>JOR</td>\n",
       "      <td>Jordan</td>\n",
       "      <td>3</td>\n",
       "      <td>Middle East and North Africa</td>\n",
       "      <td>3.0</td>\n",
       "      <td>Upper Middle Income Country</td>\n",
       "      <td>UMIC</td>\n",
       "      <td>1</td>\n",
       "      <td>USAID</td>\n",
       "      <td>...</td>\n",
       "      <td>2008-10-14</td>\n",
       "      <td>2009-09-30</td>\n",
       "      <td>2</td>\n",
       "      <td>Obligations</td>\n",
       "      <td>2013</td>\n",
       "      <td>384000000</td>\n",
       "      <td>400357290</td>\n",
       "      <td>25</td>\n",
       "      <td>Macroeconomic Foundation for Growth</td>\n",
       "      <td>76</td>\n",
       "    </tr>\n",
       "    <tr>\n",
       "      <th>58</th>\n",
       "      <td>4</td>\n",
       "      <td>AFG</td>\n",
       "      <td>Afghanistan</td>\n",
       "      <td>4</td>\n",
       "      <td>South and Central Asia</td>\n",
       "      <td>1.0</td>\n",
       "      <td>Low Income Country</td>\n",
       "      <td>LIC</td>\n",
       "      <td>1</td>\n",
       "      <td>USAID</td>\n",
       "      <td>...</td>\n",
       "      <td>2012-03-31</td>\n",
       "      <td>2017-03-31</td>\n",
       "      <td>2</td>\n",
       "      <td>Obligations</td>\n",
       "      <td>2015</td>\n",
       "      <td>361000000</td>\n",
       "      <td>365306621</td>\n",
       "      <td>8</td>\n",
       "      <td>Good Governance</td>\n",
       "      <td>76</td>\n",
       "    </tr>\n",
       "  </tbody>\n",
       "</table>\n",
       "<p>5 rows × 48 columns</p>\n",
       "</div>"
      ],
      "text/plain": [
       "    country_id country_code country_name  region_id  \\\n",
       "46           4          AFG  Afghanistan          4   \n",
       "51           4          AFG  Afghanistan          4   \n",
       "55         400          JOR       Jordan          3   \n",
       "56         400          JOR       Jordan          3   \n",
       "58           4          AFG  Afghanistan          4   \n",
       "\n",
       "                     region_name  income_group_id  \\\n",
       "46        South and Central Asia              1.0   \n",
       "51        South and Central Asia              1.0   \n",
       "55  Middle East and North Africa              3.0   \n",
       "56  Middle East and North Africa              3.0   \n",
       "58        South and Central Asia              1.0   \n",
       "\n",
       "              income_group_name income_group_acronym  implementing_agency_id  \\\n",
       "46           Low Income Country                  LIC                       1   \n",
       "51           Low Income Country                  LIC                       1   \n",
       "55  Upper Middle Income Country                 UMIC                       1   \n",
       "56  Upper Middle Income Country                 UMIC                       1   \n",
       "58           Low Income Country                  LIC                       1   \n",
       "\n",
       "   implementing_agency_acronym  ... activity_start_date  activity_end_date  \\\n",
       "46                       USAID  ...          2011-09-21         2012-03-31   \n",
       "51                       USAID  ...          2011-09-21         2012-03-31   \n",
       "55                       USAID  ...          2008-10-14         2009-09-30   \n",
       "56                       USAID  ...          2008-10-14         2009-09-30   \n",
       "58                       USAID  ...          2012-03-31         2017-03-31   \n",
       "\n",
       "   transaction_type_id transaction_type_name  fiscal_year current_amount  \\\n",
       "46                   2           Obligations         2010      422680000   \n",
       "51                   3         Disbursements         2012      400000000   \n",
       "55                   3         Disbursements         2013      384000000   \n",
       "56                   2           Obligations         2013      384000000   \n",
       "58                   2           Obligations         2015      361000000   \n",
       "\n",
       "    constant_amount USG_sector_id                      USG_sector_name  \\\n",
       "46        465584869             8                      Good Governance   \n",
       "51        424081672             8                      Good Governance   \n",
       "55        400357290            25  Macroeconomic Foundation for Growth   \n",
       "56        400357290            25  Macroeconomic Foundation for Growth   \n",
       "58        365306621             8                      Good Governance   \n",
       "\n",
       "   submission_id  \n",
       "46            76  \n",
       "51            76  \n",
       "55            76  \n",
       "56            76  \n",
       "58            76  \n",
       "\n",
       "[5 rows x 48 columns]"
      ]
     },
     "execution_count": 41,
     "metadata": {},
     "output_type": "execute_result"
    }
   ],
   "source": [
    "df.head(5)"
   ]
  },
  {
   "cell_type": "markdown",
   "metadata": {},
   "source": [
    "## EDA VISUALIZATION"
   ]
  },
  {
   "cell_type": "code",
   "execution_count": 57,
   "metadata": {},
   "outputs": [
    {
     "data": {
      "image/png": "[encoded data removed]",
      "text/plain": [
       "<Figure size 720x432 with 1 Axes>"
      ]
     },
     "metadata": {
      "needs_background": "light"
     },
     "output_type": "display_data"
    }
   ],
   "source": [
    "# Convert 'fiscal_year' to datetime if necessary\n",
    "df['fiscal_year'] = pd.to_datetime(df['fiscal_year'], format='%Y')\n",
    "\n",
    "# Aggregate funding by fiscal year\n",
    "funding_over_time = df.groupby('fiscal_year')['current_amount'].sum().reset_index()\n",
    "\n",
    "# Plot funding over time\n",
    "plt.figure(figsize=(10, 6))\n",
    "sns.lineplot(data=funding_over_time, x='fiscal_year', y='current_amount', marker='o')\n",
    "plt.title('USAID Funding Over Time')\n",
    "plt.xlabel('fiscal_year')\n",
    "plt.ylabel('Total Funding (USD)')\n",
    "plt.grid(True)\n",
    "plt.show()"
   ]
  },
  {
   "cell_type": "code",
   "execution_count": 43,
   "metadata": {},
   "outputs": [
    {
     "data": {
      "application/vnd.plotly.v1+json": {
       "config": {
        "plotlyServerURL": "https://plot.ly"
       },
       "data": [
        {
         "coloraxis": "coloraxis",
         "geo": "geo",
         "hovertemplate": "<b>%{hovertext}</b><br><br>region_name=%{location}<br>current_amount=%{z}<extra></extra>",
         "hovertext": [
          "East Asia and Oceania",
          "Europe and Eurasia",
          "Middle East and North Africa",
          "South and Central Asia",
          "Sub-Saharan Africa",
          "Western Hemisphere"
         ],
         "locationmode": "country names",
         "locations": [
          "East Asia and Oceania",
          "Europe and Eurasia",
          "Middle East and North Africa",
          "South and Central Asia",
          "Sub-Saharan Africa",
          "Western Hemisphere"
         ],
         "name": "",
         "type": "choropleth",
         "z": [
          12303866646,
          12823813789,
          35104075542,
          49306987219,
          72674123453,
          16252549047
         ]
        }
       ],
       "layout": {
        "autosize": true,
        "coloraxis": {
         "colorbar": {
          "title": {
           "text": "current_amount"
          }
         },
         "colorscale": [
          [
           0,
           "rgb(247,251,255)"
          ],
          [
           0.125,
           "rgb(222,235,247)"
          ],
          [
           0.25,
           "rgb(198,219,239)"
          ],
          [
           0.375,
           "rgb(158,202,225)"
          ],
          [
           0.5,
           "rgb(107,174,214)"
          ],
          [
           0.625,
           "rgb(66,146,198)"
          ],
          [
           0.75,
           "rgb(33,113,181)"
          ],
          [
           0.875,
           "rgb(8,81,156)"
          ],
          [
           1,
           "rgb(8,48,107)"
          ]
         ]
        },
        "geo": {
         "center": {},
         "domain": {
          "x": [
           0,
           1
          ],
          "y": [
           0,
           1
          ]
         }
        },
        "legend": {
         "tracegroupgap": 0
        },
        "template": {
         "data": {
          "bar": [
           {
            "error_x": {
             "color": "#2a3f5f"
            },
            "error_y": {
             "color": "#2a3f5f"
            },
            "marker": {
             "line": {
              "color": "#E5ECF6",
              "width": 0.5
             }
            },
            "type": "bar"
           }
          ],
          "barpolar": [
           {
            "marker": {
             "line": {
              "color": "#E5ECF6",
              "width": 0.5
             }
            },
            "type": "barpolar"
           }
          ],
          "carpet": [
           {
            "aaxis": {
             "endlinecolor": "#2a3f5f",
             "gridcolor": "white",
             "linecolor": "white",
             "minorgridcolor": "white",
             "startlinecolor": "#2a3f5f"
            },
            "baxis": {
             "endlinecolor": "#2a3f5f",
             "gridcolor": "white",
             "linecolor": "white",
             "minorgridcolor": "white",
             "startlinecolor": "#2a3f5f"
            },
            "type": "carpet"
           }
          ],
          "choropleth": [
           {
            "colorbar": {
             "outlinewidth": 0,
             "ticks": ""
            },
            "type": "choropleth"
           }
          ],
          "contour": [
           {
            "colorbar": {
             "outlinewidth": 0,
             "ticks": ""
            },
            "colorscale": [
             [
              0,
              "#0d0887"
             ],
             [
              0.1111111111111111,
              "#46039f"
             ],
             [
              0.2222222222222222,
              "#7201a8"
             ],
             [
              0.3333333333333333,
              "#9c179e"
             ],
             [
              0.4444444444444444,
              "#bd3786"
             ],
             [
              0.5555555555555556,
              "#d8576b"
             ],
             [
              0.6666666666666666,
              "#ed7953"
             ],
             [
              0.7777777777777778,
              "#fb9f3a"
             ],
             [
              0.8888888888888888,
              "#fdca26"
             ],
             [
              1,
              "#f0f921"
             ]
            ],
            "type": "contour"
           }
          ],
          "contourcarpet": [
           {
            "colorbar": {
             "outlinewidth": 0,
             "ticks": ""
            },
            "type": "contourcarpet"
           }
          ],
          "heatmap": [
           {
            "colorbar": {
             "outlinewidth": 0,
             "ticks": ""
            },
            "colorscale": [
             [
              0,
              "#0d0887"
             ],
             [
              0.1111111111111111,
              "#46039f"
             ],
             [
              0.2222222222222222,
              "#7201a8"
             ],
             [
              0.3333333333333333,
              "#9c179e"
             ],
             [
              0.4444444444444444,
              "#bd3786"
             ],
             [
              0.5555555555555556,
              "#d8576b"
             ],
             [
              0.6666666666666666,
              "#ed7953"
             ],
             [
              0.7777777777777778,
              "#fb9f3a"
             ],
             [
              0.8888888888888888,
              "#fdca26"
             ],
             [
              1,
              "#f0f921"
             ]
            ],
            "type": "heatmap"
           }
          ],
          "heatmapgl": [
           {
            "colorbar": {
             "outlinewidth": 0,
             "ticks": ""
            },
            "colorscale": [
             [
              0,
              "#0d0887"
             ],
             [
              0.1111111111111111,
              "#46039f"
             ],
             [
              0.2222222222222222,
              "#7201a8"
             ],
             [
              0.3333333333333333,
              "#9c179e"
             ],
             [
              0.4444444444444444,
              "#bd3786"
             ],
             [
              0.5555555555555556,
              "#d8576b"
             ],
             [
              0.6666666666666666,
              "#ed7953"
             ],
             [
              0.7777777777777778,
              "#fb9f3a"
             ],
             [
              0.8888888888888888,
              "#fdca26"
             ],
             [
              1,
              "#f0f921"
             ]
            ],
            "type": "heatmapgl"
           }
          ],
          "histogram": [
           {
            "marker": {
             "colorbar": {
              "outlinewidth": 0,
              "ticks": ""
             }
            },
            "type": "histogram"
           }
          ],
          "histogram2d": [
           {
            "colorbar": {
             "outlinewidth": 0,
             "ticks": ""
            },
            "colorscale": [
             [
              0,
              "#0d0887"
             ],
             [
              0.1111111111111111,
              "#46039f"
             ],
             [
              0.2222222222222222,
              "#7201a8"
             ],
             [
              0.3333333333333333,
              "#9c179e"
             ],
             [
              0.4444444444444444,
              "#bd3786"
             ],
             [
              0.5555555555555556,
              "#d8576b"
             ],
             [
              0.6666666666666666,
              "#ed7953"
             ],
             [
              0.7777777777777778,
              "#fb9f3a"
             ],
             [
              0.8888888888888888,
              "#fdca26"
             ],
             [
              1,
              "#f0f921"
             ]
            ],
            "type": "histogram2d"
           }
          ],
          "histogram2dcontour": [
           {
            "colorbar": {
             "outlinewidth": 0,
             "ticks": ""
            },
            "colorscale": [
             [
              0,
              "#0d0887"
             ],
             [
              0.1111111111111111,
              "#46039f"
             ],
             [
              0.2222222222222222,
              "#7201a8"
             ],
             [
              0.3333333333333333,
              "#9c179e"
             ],
             [
              0.4444444444444444,
              "#bd3786"
             ],
             [
              0.5555555555555556,
              "#d8576b"
             ],
             [
              0.6666666666666666,
              "#ed7953"
             ],
             [
              0.7777777777777778,
              "#fb9f3a"
             ],
             [
              0.8888888888888888,
              "#fdca26"
             ],
             [
              1,
              "#f0f921"
             ]
            ],
            "type": "histogram2dcontour"
           }
          ],
          "mesh3d": [
           {
            "colorbar": {
             "outlinewidth": 0,
             "ticks": ""
            },
            "type": "mesh3d"
           }
          ],
          "parcoords": [
           {
            "line": {
             "colorbar": {
              "outlinewidth": 0,
              "ticks": ""
             }
            },
            "type": "parcoords"
           }
          ],
          "pie": [
           {
            "automargin": true,
            "type": "pie"
           }
          ],
          "scatter": [
           {
            "marker": {
             "colorbar": {
              "outlinewidth": 0,
              "ticks": ""
             }
            },
            "type": "scatter"
           }
          ],
          "scatter3d": [
           {
            "line": {
             "colorbar": {
              "outlinewidth": 0,
              "ticks": ""
             }
            },
            "marker": {
             "colorbar": {
              "outlinewidth": 0,
              "ticks": ""
             }
            },
            "type": "scatter3d"
           }
          ],
          "scattercarpet": [
           {
            "marker": {
             "colorbar": {
              "outlinewidth": 0,
              "ticks": ""
             }
            },
            "type": "scattercarpet"
           }
          ],
          "scattergeo": [
           {
            "marker": {
             "colorbar": {
              "outlinewidth": 0,
              "ticks": ""
             }
            },
            "type": "scattergeo"
           }
          ],
          "scattergl": [
           {
            "marker": {
             "colorbar": {
              "outlinewidth": 0,
              "ticks": ""
             }
            },
            "type": "scattergl"
           }
          ],
          "scattermapbox": [
           {
            "marker": {
             "colorbar": {
              "outlinewidth": 0,
              "ticks": ""
             }
            },
            "type": "scattermapbox"
           }
          ],
          "scatterpolar": [
           {
            "marker": {
             "colorbar": {
              "outlinewidth": 0,
              "ticks": ""
             }
            },
            "type": "scatterpolar"
           }
          ],
          "scatterpolargl": [
           {
            "marker": {
             "colorbar": {
              "outlinewidth": 0,
              "ticks": ""
             }
            },
            "type": "scatterpolargl"
           }
          ],
          "scatterternary": [
           {
            "marker": {
             "colorbar": {
              "outlinewidth": 0,
              "ticks": ""
             }
            },
            "type": "scatterternary"
           }
          ],
          "surface": [
           {
            "colorbar": {
             "outlinewidth": 0,
             "ticks": ""
            },
            "colorscale": [
             [
              0,
              "#0d0887"
             ],
             [
              0.1111111111111111,
              "#46039f"
             ],
             [
              0.2222222222222222,
              "#7201a8"
             ],
             [
              0.3333333333333333,
              "#9c179e"
             ],
             [
              0.4444444444444444,
              "#bd3786"
             ],
             [
              0.5555555555555556,
              "#d8576b"
             ],
             [
              0.6666666666666666,
              "#ed7953"
             ],
             [
              0.7777777777777778,
              "#fb9f3a"
             ],
             [
              0.8888888888888888,
              "#fdca26"
             ],
             [
              1,
              "#f0f921"
             ]
            ],
            "type": "surface"
           }
          ],
          "table": [
           {
            "cells": {
             "fill": {
              "color": "#EBF0F8"
             },
             "line": {
              "color": "white"
             }
            },
            "header": {
             "fill": {
              "color": "#C8D4E3"
             },
             "line": {
              "color": "white"
             }
            },
            "type": "table"
           }
          ]
         },
         "layout": {
          "annotationdefaults": {
           "arrowcolor": "#2a3f5f",
           "arrowhead": 0,
           "arrowwidth": 1
          },
          "coloraxis": {
           "colorbar": {
            "outlinewidth": 0,
            "ticks": ""
           }
          },
          "colorscale": {
           "diverging": [
            [
             0,
             "#8e0152"
            ],
            [
             0.1,
             "#c51b7d"
            ],
            [
             0.2,
             "#de77ae"
            ],
            [
             0.3,
             "#f1b6da"
            ],
            [
             0.4,
             "#fde0ef"
            ],
            [
             0.5,
             "#f7f7f7"
            ],
            [
             0.6,
             "#e6f5d0"
            ],
            [
             0.7,
             "#b8e186"
            ],
            [
             0.8,
             "#7fbc41"
            ],
            [
             0.9,
             "#4d9221"
            ],
            [
             1,
             "#276419"
            ]
           ],
           "sequential": [
            [
             0,
             "#0d0887"
            ],
            [
             0.1111111111111111,
             "#46039f"
            ],
            [
             0.2222222222222222,
             "#7201a8"
            ],
            [
             0.3333333333333333,
             "#9c179e"
            ],
            [
             0.4444444444444444,
             "#bd3786"
            ],
            [
             0.5555555555555556,
             "#d8576b"
            ],
            [
             0.6666666666666666,
             "#ed7953"
            ],
            [
             0.7777777777777778,
             "#fb9f3a"
            ],
            [
             0.8888888888888888,
             "#fdca26"
            ],
            [
             1,
             "#f0f921"
            ]
           ],
           "sequentialminus": [
            [
             0,
             "#0d0887"
            ],
            [
             0.1111111111111111,
             "#46039f"
            ],
            [
             0.2222222222222222,
             "#7201a8"
            ],
            [
             0.3333333333333333,
             "#9c179e"
            ],
            [
             0.4444444444444444,
             "#bd3786"
            ],
            [
             0.5555555555555556,
             "#d8576b"
            ],
            [
             0.6666666666666666,
             "#ed7953"
            ],
            [
             0.7777777777777778,
             "#fb9f3a"
            ],
            [
             0.8888888888888888,
             "#fdca26"
            ],
            [
             1,
             "#f0f921"
            ]
           ]
          },
          "colorway": [
           "#636efa",
           "#EF553B",
           "#00cc96",
           "#ab63fa",
           "#FFA15A",
           "#19d3f3",
           "#FF6692",
           "#B6E880",
           "#FF97FF",
           "#FECB52"
          ],
          "font": {
           "color": "#2a3f5f"
          },
          "geo": {
           "bgcolor": "white",
           "lakecolor": "white",
           "landcolor": "#E5ECF6",
           "showlakes": true,
           "showland": true,
           "subunitcolor": "white"
          },
          "hoverlabel": {
           "align": "left"
          },
          "hovermode": "closest",
          "mapbox": {
           "style": "light"
          },
          "paper_bgcolor": "white",
          "plot_bgcolor": "#E5ECF6",
          "polar": {
           "angularaxis": {
            "gridcolor": "white",
            "linecolor": "white",
            "ticks": ""
           },
           "bgcolor": "#E5ECF6",
           "radialaxis": {
            "gridcolor": "white",
            "linecolor": "white",
            "ticks": ""
           }
          },
          "scene": {
           "xaxis": {
            "backgroundcolor": "#E5ECF6",
            "gridcolor": "white",
            "gridwidth": 2,
            "linecolor": "white",
            "showbackground": true,
            "ticks": "",
            "zerolinecolor": "white"
           },
           "yaxis": {
            "backgroundcolor": "#E5ECF6",
            "gridcolor": "white",
            "gridwidth": 2,
            "linecolor": "white",
            "showbackground": true,
            "ticks": "",
            "zerolinecolor": "white"
           },
           "zaxis": {
            "backgroundcolor": "#E5ECF6",
            "gridcolor": "white",
            "gridwidth": 2,
            "linecolor": "white",
            "showbackground": true,
            "ticks": "",
            "zerolinecolor": "white"
           }
          },
          "shapedefaults": {
           "line": {
            "color": "#2a3f5f"
           }
          },
          "ternary": {
           "aaxis": {
            "gridcolor": "white",
            "linecolor": "white",
            "ticks": ""
           },
           "baxis": {
            "gridcolor": "white",
            "linecolor": "white",
            "ticks": ""
           },
           "bgcolor": "#E5ECF6",
           "caxis": {
            "gridcolor": "white",
            "linecolor": "white",
            "ticks": ""
           }
          },
          "title": {
           "x": 0.05
          },
          "xaxis": {
           "automargin": true,
           "gridcolor": "white",
           "linecolor": "white",
           "ticks": "",
           "title": {
            "standoff": 15
           },
           "zerolinecolor": "white",
           "zerolinewidth": 2
          },
          "yaxis": {
           "automargin": true,
           "gridcolor": "white",
           "linecolor": "white",
           "ticks": "",
           "title": {
            "standoff": 15
           },
           "zerolinecolor": "white",
           "zerolinewidth": 2
          }
         }
        },
        "title": {
         "text": "USAID Funding by Region"
        }
       }
      },
      "image/png": "[encoded data removed]",
      "text/html": [
       "<div>                            <div id=\"67fabf9b-38c8-4e95-a01b-891555ff28c2\" class=\"plotly-graph-div\" style=\"height:525px; width:100%;\"></div>            <script type=\"text/javascript\">                require([\"plotly\"], function(Plotly) {                    window.PLOTLYENV=window.PLOTLYENV || {};                                    if (document.getElementById(\"67fabf9b-38c8-4e95-a01b-891555ff28c2\")) {                    Plotly.newPlot(                        \"67fabf9b-38c8-4e95-a01b-891555ff28c2\",                        [{\"coloraxis\": \"coloraxis\", \"geo\": \"geo\", \"hovertemplate\": \"<b>%{hovertext}</b><br><br>region_name=%{location}<br>current_amount=%{z}<extra></extra>\", \"hovertext\": [\"East Asia and Oceania\", \"Europe and Eurasia\", \"Middle East and North Africa\", \"South and Central Asia\", \"Sub-Saharan Africa\", \"Western Hemisphere\"], \"locationmode\": \"country names\", \"locations\": [\"East Asia and Oceania\", \"Europe and Eurasia\", \"Middle East and North Africa\", \"South and Central Asia\", \"Sub-Saharan Africa\", \"Western Hemisphere\"], \"name\": \"\", \"type\": \"choropleth\", \"z\": [12303866646, 12823813789, 35104075542, 49306987219, 72674123453, 16252549047]}],                        {\"coloraxis\": {\"colorbar\": {\"title\": {\"text\": \"current_amount\"}}, \"colorscale\": [[0.0, \"rgb(247,251,255)\"], [0.125, \"rgb(222,235,247)\"], [0.25, \"rgb(198,219,239)\"], [0.375, \"rgb(158,202,225)\"], [0.5, \"rgb(107,174,214)\"], [0.625, \"rgb(66,146,198)\"], [0.75, \"rgb(33,113,181)\"], [0.875, \"rgb(8,81,156)\"], [1.0, \"rgb(8,48,107)\"]]}, \"geo\": {\"center\": {}, \"domain\": {\"x\": [0.0, 1.0], \"y\": [0.0, 1.0]}}, \"legend\": {\"tracegroupgap\": 0}, \"template\": {\"data\": {\"bar\": [{\"error_x\": {\"color\": \"#2a3f5f\"}, \"error_y\": {\"color\": \"#2a3f5f\"}, \"marker\": {\"line\": {\"color\": \"#E5ECF6\", \"width\": 0.5}}, \"type\": \"bar\"}], \"barpolar\": [{\"marker\": {\"line\": {\"color\": \"#E5ECF6\", \"width\": 0.5}}, \"type\": \"barpolar\"}], \"carpet\": [{\"aaxis\": {\"endlinecolor\": \"#2a3f5f\", \"gridcolor\": \"white\", \"linecolor\": \"white\", \"minorgridcolor\": \"white\", \"startlinecolor\": \"#2a3f5f\"}, \"baxis\": {\"endlinecolor\": \"#2a3f5f\", \"gridcolor\": \"white\", \"linecolor\": \"white\", \"minorgridcolor\": \"white\", \"startlinecolor\": \"#2a3f5f\"}, \"type\": \"carpet\"}], \"choropleth\": [{\"colorbar\": {\"outlinewidth\": 0, \"ticks\": \"\"}, \"type\": \"choropleth\"}], \"contour\": [{\"colorbar\": {\"outlinewidth\": 0, \"ticks\": \"\"}, \"colorscale\": [[0.0, \"#0d0887\"], [0.1111111111111111, \"#46039f\"], [0.2222222222222222, \"#7201a8\"], [0.3333333333333333, \"#9c179e\"], [0.4444444444444444, \"#bd3786\"], [0.5555555555555556, \"#d8576b\"], [0.6666666666666666, \"#ed7953\"], [0.7777777777777778, \"#fb9f3a\"], [0.8888888888888888, \"#fdca26\"], [1.0, \"#f0f921\"]], \"type\": \"contour\"}], \"contourcarpet\": [{\"colorbar\": {\"outlinewidth\": 0, \"ticks\": \"\"}, \"type\": \"contourcarpet\"}], \"heatmap\": [{\"colorbar\": {\"outlinewidth\": 0, \"ticks\": \"\"}, \"colorscale\": [[0.0, \"#0d0887\"], [0.1111111111111111, \"#46039f\"], [0.2222222222222222, \"#7201a8\"], [0.3333333333333333, \"#9c179e\"], [0.4444444444444444, \"#bd3786\"], [0.5555555555555556, \"#d8576b\"], [0.6666666666666666, \"#ed7953\"], [0.7777777777777778, \"#fb9f3a\"], [0.8888888888888888, \"#fdca26\"], [1.0, \"#f0f921\"]], \"type\": \"heatmap\"}], \"heatmapgl\": [{\"colorbar\": {\"outlinewidth\": 0, \"ticks\": \"\"}, \"colorscale\": [[0.0, \"#0d0887\"], [0.1111111111111111, \"#46039f\"], [0.2222222222222222, \"#7201a8\"], [0.3333333333333333, \"#9c179e\"], [0.4444444444444444, \"#bd3786\"], [0.5555555555555556, \"#d8576b\"], [0.6666666666666666, \"#ed7953\"], [0.7777777777777778, \"#fb9f3a\"], [0.8888888888888888, \"#fdca26\"], [1.0, \"#f0f921\"]], \"type\": \"heatmapgl\"}], \"histogram\": [{\"marker\": {\"colorbar\": {\"outlinewidth\": 0, \"ticks\": \"\"}}, \"type\": \"histogram\"}], \"histogram2d\": [{\"colorbar\": {\"outlinewidth\": 0, \"ticks\": \"\"}, \"colorscale\": [[0.0, \"#0d0887\"], [0.1111111111111111, \"#46039f\"], [0.2222222222222222, \"#7201a8\"], [0.3333333333333333, \"#9c179e\"], [0.4444444444444444, \"#bd3786\"], [0.5555555555555556, \"#d8576b\"], [0.6666666666666666, \"#ed7953\"], [0.7777777777777778, \"#fb9f3a\"], [0.8888888888888888, \"#fdca26\"], [1.0, \"#f0f921\"]], \"type\": \"histogram2d\"}], \"histogram2dcontour\": [{\"colorbar\": {\"outlinewidth\": 0, \"ticks\": \"\"}, \"colorscale\": [[0.0, \"#0d0887\"], [0.1111111111111111, \"#46039f\"], [0.2222222222222222, \"#7201a8\"], [0.3333333333333333, \"#9c179e\"], [0.4444444444444444, \"#bd3786\"], [0.5555555555555556, \"#d8576b\"], [0.6666666666666666, \"#ed7953\"], [0.7777777777777778, \"#fb9f3a\"], [0.8888888888888888, \"#fdca26\"], [1.0, \"#f0f921\"]], \"type\": \"histogram2dcontour\"}], \"mesh3d\": [{\"colorbar\": {\"outlinewidth\": 0, \"ticks\": \"\"}, \"type\": \"mesh3d\"}], \"parcoords\": [{\"line\": {\"colorbar\": {\"outlinewidth\": 0, \"ticks\": \"\"}}, \"type\": \"parcoords\"}], \"pie\": [{\"automargin\": true, \"type\": \"pie\"}], \"scatter\": [{\"marker\": {\"colorbar\": {\"outlinewidth\": 0, \"ticks\": \"\"}}, \"type\": \"scatter\"}], \"scatter3d\": [{\"line\": {\"colorbar\": {\"outlinewidth\": 0, \"ticks\": \"\"}}, \"marker\": {\"colorbar\": {\"outlinewidth\": 0, \"ticks\": \"\"}}, \"type\": \"scatter3d\"}], \"scattercarpet\": [{\"marker\": {\"colorbar\": {\"outlinewidth\": 0, \"ticks\": \"\"}}, \"type\": \"scattercarpet\"}], \"scattergeo\": [{\"marker\": {\"colorbar\": {\"outlinewidth\": 0, \"ticks\": \"\"}}, \"type\": \"scattergeo\"}], \"scattergl\": [{\"marker\": {\"colorbar\": {\"outlinewidth\": 0, \"ticks\": \"\"}}, \"type\": \"scattergl\"}], \"scattermapbox\": [{\"marker\": {\"colorbar\": {\"outlinewidth\": 0, \"ticks\": \"\"}}, \"type\": \"scattermapbox\"}], \"scatterpolar\": [{\"marker\": {\"colorbar\": {\"outlinewidth\": 0, \"ticks\": \"\"}}, \"type\": \"scatterpolar\"}], \"scatterpolargl\": [{\"marker\": {\"colorbar\": {\"outlinewidth\": 0, \"ticks\": \"\"}}, \"type\": \"scatterpolargl\"}], \"scatterternary\": [{\"marker\": {\"colorbar\": {\"outlinewidth\": 0, \"ticks\": \"\"}}, \"type\": \"scatterternary\"}], \"surface\": [{\"colorbar\": {\"outlinewidth\": 0, \"ticks\": \"\"}, \"colorscale\": [[0.0, \"#0d0887\"], [0.1111111111111111, \"#46039f\"], [0.2222222222222222, \"#7201a8\"], [0.3333333333333333, \"#9c179e\"], [0.4444444444444444, \"#bd3786\"], [0.5555555555555556, \"#d8576b\"], [0.6666666666666666, \"#ed7953\"], [0.7777777777777778, \"#fb9f3a\"], [0.8888888888888888, \"#fdca26\"], [1.0, \"#f0f921\"]], \"type\": \"surface\"}], \"table\": [{\"cells\": {\"fill\": {\"color\": \"#EBF0F8\"}, \"line\": {\"color\": \"white\"}}, \"header\": {\"fill\": {\"color\": \"#C8D4E3\"}, \"line\": {\"color\": \"white\"}}, \"type\": \"table\"}]}, \"layout\": {\"annotationdefaults\": {\"arrowcolor\": \"#2a3f5f\", \"arrowhead\": 0, \"arrowwidth\": 1}, \"coloraxis\": {\"colorbar\": {\"outlinewidth\": 0, \"ticks\": \"\"}}, \"colorscale\": {\"diverging\": [[0, \"#8e0152\"], [0.1, \"#c51b7d\"], [0.2, \"#de77ae\"], [0.3, \"#f1b6da\"], [0.4, \"#fde0ef\"], [0.5, \"#f7f7f7\"], [0.6, \"#e6f5d0\"], [0.7, \"#b8e186\"], [0.8, \"#7fbc41\"], [0.9, \"#4d9221\"], [1, \"#276419\"]], \"sequential\": [[0.0, \"#0d0887\"], [0.1111111111111111, \"#46039f\"], [0.2222222222222222, \"#7201a8\"], [0.3333333333333333, \"#9c179e\"], [0.4444444444444444, \"#bd3786\"], [0.5555555555555556, \"#d8576b\"], [0.6666666666666666, \"#ed7953\"], [0.7777777777777778, \"#fb9f3a\"], [0.8888888888888888, \"#fdca26\"], [1.0, \"#f0f921\"]], \"sequentialminus\": [[0.0, \"#0d0887\"], [0.1111111111111111, \"#46039f\"], [0.2222222222222222, \"#7201a8\"], [0.3333333333333333, \"#9c179e\"], [0.4444444444444444, \"#bd3786\"], [0.5555555555555556, \"#d8576b\"], [0.6666666666666666, \"#ed7953\"], [0.7777777777777778, \"#fb9f3a\"], [0.8888888888888888, \"#fdca26\"], [1.0, \"#f0f921\"]]}, \"colorway\": [\"#636efa\", \"#EF553B\", \"#00cc96\", \"#ab63fa\", \"#FFA15A\", \"#19d3f3\", \"#FF6692\", \"#B6E880\", \"#FF97FF\", \"#FECB52\"], \"font\": {\"color\": \"#2a3f5f\"}, \"geo\": {\"bgcolor\": \"white\", \"lakecolor\": \"white\", \"landcolor\": \"#E5ECF6\", \"showlakes\": true, \"showland\": true, \"subunitcolor\": \"white\"}, \"hoverlabel\": {\"align\": \"left\"}, \"hovermode\": \"closest\", \"mapbox\": {\"style\": \"light\"}, \"paper_bgcolor\": \"white\", \"plot_bgcolor\": \"#E5ECF6\", \"polar\": {\"angularaxis\": {\"gridcolor\": \"white\", \"linecolor\": \"white\", \"ticks\": \"\"}, \"bgcolor\": \"#E5ECF6\", \"radialaxis\": {\"gridcolor\": \"white\", \"linecolor\": \"white\", \"ticks\": \"\"}}, \"scene\": {\"xaxis\": {\"backgroundcolor\": \"#E5ECF6\", \"gridcolor\": \"white\", \"gridwidth\": 2, \"linecolor\": \"white\", \"showbackground\": true, \"ticks\": \"\", \"zerolinecolor\": \"white\"}, \"yaxis\": {\"backgroundcolor\": \"#E5ECF6\", \"gridcolor\": \"white\", \"gridwidth\": 2, \"linecolor\": \"white\", \"showbackground\": true, \"ticks\": \"\", \"zerolinecolor\": \"white\"}, \"zaxis\": {\"backgroundcolor\": \"#E5ECF6\", \"gridcolor\": \"white\", \"gridwidth\": 2, \"linecolor\": \"white\", \"showbackground\": true, \"ticks\": \"\", \"zerolinecolor\": \"white\"}}, \"shapedefaults\": {\"line\": {\"color\": \"#2a3f5f\"}}, \"ternary\": {\"aaxis\": {\"gridcolor\": \"white\", \"linecolor\": \"white\", \"ticks\": \"\"}, \"baxis\": {\"gridcolor\": \"white\", \"linecolor\": \"white\", \"ticks\": \"\"}, \"bgcolor\": \"#E5ECF6\", \"caxis\": {\"gridcolor\": \"white\", \"linecolor\": \"white\", \"ticks\": \"\"}}, \"title\": {\"x\": 0.05}, \"xaxis\": {\"automargin\": true, \"gridcolor\": \"white\", \"linecolor\": \"white\", \"ticks\": \"\", \"title\": {\"standoff\": 15}, \"zerolinecolor\": \"white\", \"zerolinewidth\": 2}, \"yaxis\": {\"automargin\": true, \"gridcolor\": \"white\", \"linecolor\": \"white\", \"ticks\": \"\", \"title\": {\"standoff\": 15}, \"zerolinecolor\": \"white\", \"zerolinewidth\": 2}}}, \"title\": {\"text\": \"USAID Funding by Region\"}},                        {\"responsive\": true}                    ).then(function(){\n",
       "                            \n",
       "var gd = document.getElementById('67fabf9b-38c8-4e95-a01b-891555ff28c2');\n",
       "var x = new MutationObserver(function (mutations, observer) {{\n",
       "        var display = window.getComputedStyle(gd).display;\n",
       "        if (!display || display === 'none') {{\n",
       "            console.log([gd, 'removed!']);\n",
       "            Plotly.purge(gd);\n",
       "            observer.disconnect();\n",
       "        }}\n",
       "}});\n",
       "\n",
       "// Listen for the removal of the full notebook cells\n",
       "var notebookContainer = gd.closest('#notebook-container');\n",
       "if (notebookContainer) {{\n",
       "    x.observe(notebookContainer, {childList: true});\n",
       "}}\n",
       "\n",
       "// Listen for the clearing of the current output cell\n",
       "var outputEl = gd.closest('.output');\n",
       "if (outputEl) {{\n",
       "    x.observe(outputEl, {childList: true});\n",
       "}}\n",
       "\n",
       "                        })                };                });            </script>        </div>"
      ]
     },
     "metadata": {},
     "output_type": "display_data"
    }
   ],
   "source": [
    "# Aggregate funding by region\n",
    "funding_by_region = df.groupby('region_name')['current_amount'].sum().reset_index()\n",
    "\n",
    "# Create a choropleth map\n",
    "fig = px.choropleth(funding_by_region,\n",
    "                    locations='region_name',\n",
    "                    locationmode='country names',\n",
    "                    color='current_amount',\n",
    "                    hover_name='region_name',\n",
    "                    title='USAID Funding by Region',\n",
    "                    color_continuous_scale='Blues')\n",
    "fig.show()"
   ]
  },
  {
   "cell_type": "code",
   "execution_count": 44,
   "metadata": {},
   "outputs": [
    {
     "data": {
      "image/png": "[encoded data removed]",
      "text/plain": [
       "<Figure size 864x432 with 1 Axes>"
      ]
     },
     "metadata": {
      "needs_background": "light"
     },
     "output_type": "display_data"
    }
   ],
   "source": [
    "# Aggregate funding by sector\n",
    "funding_by_sector = df.groupby('dac_sector_name')['current_amount'].sum().reset_index()\n",
    "\n",
    "# Sort by funding amount\n",
    "funding_by_sector = funding_by_sector.sort_values(by='current_amount', ascending=False)\n",
    "\n",
    "# Plot funding by sector\n",
    "plt.figure(figsize=(12, 6))\n",
    "sns.barplot(data=funding_by_sector, x='current_amount', y='dac_sector_name', palette='viridis')\n",
    "plt.title('USAID Funding by Sector')\n",
    "plt.xlabel('Total Funding (USD)')\n",
    "plt.ylabel('Sector')\n",
    "plt.show()"
   ]
  },
  {
   "cell_type": "code",
   "execution_count": 45,
   "metadata": {},
   "outputs": [
    {
     "data": {
      "image/png": "[encoded data removed]",
      "text/plain": [
       "<Figure size 720x432 with 1 Axes>"
      ]
     },
     "metadata": {
      "needs_background": "light"
     },
     "output_type": "display_data"
    }
   ],
   "source": [
    "# Aggregate funding by country\n",
    "funding_by_country = df.groupby('country_name')['current_amount'].sum().reset_index()\n",
    "\n",
    "# Sort and select top 10 countries\n",
    "top_countries = funding_by_country.sort_values(by='current_amount', ascending=False).head(10)\n",
    "\n",
    "# Plot top recipient countries\n",
    "plt.figure(figsize=(10, 6))\n",
    "sns.barplot(data=top_countries, x='current_amount', y='country_name', palette='magma')\n",
    "plt.title('Top 10 Recipient Countries of USAID Funding')\n",
    "plt.xlabel('Total Funding (USD)')\n",
    "plt.ylabel('Country')\n",
    "plt.show()\n",
    "\n"
   ]
  },
  {
   "cell_type": "code",
   "execution_count": 46,
   "metadata": {},
   "outputs": [
    {
     "data": {
      "image/png": "[encoded data removed]",
      "text/plain": [
       "<Figure size 576x576 with 1 Axes>"
      ]
     },
     "metadata": {},
     "output_type": "display_data"
    }
   ],
   "source": [
    "# Aggregate funding by income group\n",
    "funding_by_income = df.groupby('income_group_name')['current_amount'].sum().reset_index()\n",
    "\n",
    "# Plot funding by income group\n",
    "plt.figure(figsize=(8, 8))\n",
    "plt.pie(funding_by_income['current_amount'], labels=funding_by_income['income_group_name'], autopct='%1.1f%%', startangle=140)\n",
    "plt.title('USAID Funding by Income Group')\n",
    "plt.show()"
   ]
  },
  {
   "cell_type": "code",
   "execution_count": 47,
   "metadata": {},
   "outputs": [
    {
     "data": {
      "image/png": "[encoded data removed]",
      "text/plain": [
       "<Figure size 576x432 with 1 Axes>"
      ]
     },
     "metadata": {
      "needs_background": "light"
     },
     "output_type": "display_data"
    }
   ],
   "source": [
    "# funding by region data \n",
    "funding_by_region = pd.DataFrame({\n",
    "    'region_name': ['Africa', 'Asia', 'Europe', 'South America', 'North America'],\n",
    "    'current_amount': [100000000, 80000000, 60000000, 40000000, 20000000]  # Example funding amounts\n",
    "})\n",
    "\n",
    "# sentiment data by region \n",
    "sentiment_data = {\n",
    "    'region_name': ['Africa', 'Asia', 'Europe', 'South America', 'North America'],\n",
    "    'average_sentiment': [0.5, -0.2, 0.3, -0.1, 0.4]  # Example sentiment scores\n",
    "}\n",
    "sentiment_df = pd.DataFrame(sentiment_data)\n",
    "\n",
    "# Merge sentiment data with funding data\n",
    "merged_df = pd.merge(funding_by_region, sentiment_df, on='region_name')\n",
    "\n",
    "# Plot correlation\n",
    "plt.figure(figsize=(8, 6))\n",
    "sns.scatterplot(data=merged_df, x='current_amount', y='average_sentiment', hue='region_name', s=100)\n",
    "plt.title('Correlation Between USAID Funding and Public Sentiment by Region')\n",
    "plt.xlabel('Total Funding (USD)')\n",
    "plt.ylabel('Average Sentiment Score')\n",
    "plt.grid(True)\n",
    "plt.show()"
   ]
  },
  {
   "cell_type": "code",
   "execution_count": 58,
   "metadata": {},
   "outputs": [
    {
     "data": {
      "image/png": "[encoded data removed]",
      "text/plain": [
       "<Figure size 576x288 with 1 Axes>"
      ]
     },
     "metadata": {
      "needs_background": "light"
     },
     "output_type": "display_data"
    }
   ],
   "source": [
    "# Example funding by sector data \n",
    "funding_by_sector = pd.DataFrame({\n",
    "    'dac_sector_name': ['Health', 'Education', 'Agriculture', 'Infrastructure'],\n",
    "    'current_amount': [50000000, 30000000, 20000000, 10000000]  # Example funding amounts\n",
    "})\n",
    "\n",
    "# Example sentiment data by sector \n",
    "sector_sentiment_data = {\n",
    "    'dac_sector_name': ['Health', 'Education', 'Agriculture', 'Infrastructure'],\n",
    "    'average_sentiment': [0.6, 0.4, -0.1, 0.2]  # Example sentiment scores\n",
    "}\n",
    "sector_sentiment_df = pd.DataFrame(sector_sentiment_data)\n",
    "\n",
    "# Merge sentiment data with funding data\n",
    "sector_merged_df = pd.merge(funding_by_sector, sector_sentiment_df, on='dac_sector_name')\n",
    "\n",
    "# Plot sector funding vs. sentiment\n",
    "plt.figure(figsize=(8, 4))\n",
    "sns.barplot(data=sector_merged_df, x='dac_sector_name', y='current_amount', hue='average_sentiment', palette='coolwarm')\n",
    "plt.title('USAID Sector Funding ')\n",
    "plt.xlabel('Sector')\n",
    "plt.ylabel('Total Funding (USD)')\n",
    "plt.xticks(rotation=45)\n",
    "plt.legend(title='Average Sentiment')\n",
    "plt.show()"
   ]
  },
  {
   "cell_type": "code",
   "execution_count": null,
   "metadata": {},
   "outputs": [],
   "source": []
  }
 ],
 "metadata": {
  "kernelspec": {
   "display_name": "Python 3 (ipykernel)",
   "language": "python",
   "name": "python3"
  },
  "language_info": {
   "codemirror_mode": {
    "name": "ipython",
    "version": 3
   },
   "file_extension": ".py",
   "mimetype": "text/x-python",
   "name": "python",
   "nbconvert_exporter": "python",
   "pygments_lexer": "ipython3",
   "version": "3.11.7"
  }
 },
 "nbformat": 4,
 "nbformat_minor": 4
}
